{
 "cells": [
  {
   "cell_type": "code",
   "execution_count": 33,
   "metadata": {},
   "outputs": [
    {
     "ename": "SyntaxError",
     "evalue": "invalid syntax (<ipython-input-33-0aadb5e393a7>, line 19)",
     "output_type": "error",
     "traceback": [
      "\u001b[1;36m  File \u001b[1;32m\"<ipython-input-33-0aadb5e393a7>\"\u001b[1;36m, line \u001b[1;32m19\u001b[0m\n\u001b[1;33m    for(numbers in self.hl):\u001b[0m\n\u001b[1;37m                           ^\u001b[0m\n\u001b[1;31mSyntaxError\u001b[0m\u001b[1;31m:\u001b[0m invalid syntax\n"
     ]
    }
   ],
   "source": [
    "import numpy as np\n",
    "import random as rd\n",
    "\n",
    "class neural:\n",
    "    def __init__(self,inputNeurons,hiddenNeurons, outputNeurons):\n",
    "        self.il = np.zeros((inputNeurons,1,), dtype=float)\n",
    "        \n",
    "        self.hl = np.zeros((hiddenNeurons,1,), dtype=float)\n",
    "        \n",
    "        self.ol = np.zeros((outputNeurons,1,), dtype=float)\n",
    "        \n",
    "    \n",
    "    def print(self):\n",
    "        print(self.il)\n",
    "        print(self.hl)\n",
    "        print(self.ol)\n",
    "        \n",
    "    def randomizeHiddenLayer(self):\n",
    "        for numbers in self.hl:\n",
    "            self.hl[numbers]=1\n",
    "        \n",
    "        \n",
    "        \n",
    "nnt= neural(3,3,3)\n",
    "\n",
    "nnt.print()"
   ]
  }
 ],
 "metadata": {
  "kernelspec": {
   "display_name": "Python 3",
   "language": "python",
   "name": "python3"
  },
  "language_info": {
   "codemirror_mode": {
    "name": "ipython",
    "version": 3
   },
   "file_extension": ".py",
   "mimetype": "text/x-python",
   "name": "python",
   "nbconvert_exporter": "python",
   "pygments_lexer": "ipython3",
   "version": "3.7.6"
  }
 },
 "nbformat": 4,
 "nbformat_minor": 4
}
