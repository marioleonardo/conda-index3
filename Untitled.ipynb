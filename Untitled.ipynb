{
 "cells": [
  {
   "cell_type": "code",
   "execution_count": 96,
   "metadata": {},
   "outputs": [
    {
     "name": "stdout",
     "output_type": "stream",
     "text": [
      "[[0.]\n",
      " [0.]\n",
      " [0.]]\n",
      "[[0.58511704]\n",
      " [0.40861861]\n",
      " [0.39578216]]\n",
      "[[0.]\n",
      " [0.]\n",
      " [0.]]\n"
     ]
    }
   ],
   "source": [
    "import numpy as np\n",
    "import random as rd\n",
    "\n",
    "\n",
    "class neural:\n",
    "    def __init__(self, inputNeurons, hiddenNeurons, outputNeurons):\n",
    "        self.il = np.zeros((\n",
    "            inputNeurons,\n",
    "            1,\n",
    "        ), dtype=float)\n",
    "\n",
    "        self.hl = np.zeros((\n",
    "            hiddenNeurons,\n",
    "            1,\n",
    "        ), dtype=float)\n",
    "\n",
    "        self.ol = np.zeros((\n",
    "            outputNeurons,\n",
    "            1,\n",
    "        ), dtype=float)\n",
    "\n",
    "    def print(self):\n",
    "        print(self.il)\n",
    "        print(self.hl)\n",
    "        print(self.ol)\n",
    "\n",
    "    def randomizeHiddenLayer(self):\n",
    "        for numbers in range(self.hl.size):\n",
    "            self.hl[int(numbers)] = rd.random()\n",
    "\n",
    "\n",
    "nnt = neural(3, 3, 3)\n",
    "nnt.randomizeHiddenLayer()\n",
    "nnt.print()"
   ]
  }
 ],
 "metadata": {
  "kernelspec": {
   "display_name": "Python 3",
   "language": "python",
   "name": "python3"
  },
  "language_info": {
   "codemirror_mode": {
    "name": "ipython",
    "version": 3
   },
   "file_extension": ".py",
   "mimetype": "text/x-python",
   "name": "python",
   "nbconvert_exporter": "python",
   "pygments_lexer": "ipython3",
   "version": "3.7.6"
  }
 },
 "nbformat": 4,
 "nbformat_minor": 4
}
